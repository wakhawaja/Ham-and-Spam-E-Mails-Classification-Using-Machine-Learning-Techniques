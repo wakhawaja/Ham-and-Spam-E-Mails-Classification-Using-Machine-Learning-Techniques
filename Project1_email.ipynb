{
 "cells": [
  {
   "cell_type": "markdown",
   "id": "0db74e35-665c-4099-8531-3431d0e17e0c",
   "metadata": {},
   "source": [
    "# Project Title: Ham and Spam E-Mails Classification Using Machine Learning Techniques\n",
    "\n",
    "***Project Description:***\n",
    "\n",
    "In this project, you will build a system that automatically classifies emails as either \"Ham\" (legitimate) or \"Spam\" (unwanted) using machine learning techniques. The goal is to create a model that can differentiate between useful emails and spam emails, helping users manage their inboxes effectively.\n",
    "Expected Outcome:\n",
    "By the end of the project, students will have a machine learning model that can classify emails into ham or spam with a high degree of accuracy. This project will provide practical experience with data preprocessing, feature engineering, model training, and evaluation, making it an excellent introduction to the world of machine learning and text classification.\n"
   ]
  },
  {
   "cell_type": "markdown",
   "id": "d95ddf0a-ff28-4e7e-b5a5-ffb315938aee",
   "metadata": {},
   "source": [
    "**Expected Outcome:**\n",
    "\r\n",
    "By the end of the project, students will have a machine learning model that can classify emails into ham or spam with a high degree of accuracy. This project will provide practical experience with data preprocessing, feature engineering, model training, and evaluation, making it an excellent introduction to the world of machine learning and text classification.\r\n"
   ]
  },
  {
   "cell_type": "markdown",
   "id": "b422f499-facc-42f6-9cbd-c93cdc2d251d",
   "metadata": {
    "jp-MarkdownHeadingCollapsed": true
   },
   "source": [
    "# Importing Libraries & Dataset"
   ]
  },
  {
   "cell_type": "code",
   "execution_count": 1,
   "id": "ee367de5-a0c7-4106-b087-5362288314f5",
   "metadata": {},
   "outputs": [
    {
     "data": {
      "text/html": [
       "<div>\n",
       "<style scoped>\n",
       "    .dataframe tbody tr th:only-of-type {\n",
       "        vertical-align: middle;\n",
       "    }\n",
       "\n",
       "    .dataframe tbody tr th {\n",
       "        vertical-align: top;\n",
       "    }\n",
       "\n",
       "    .dataframe thead th {\n",
       "        text-align: right;\n",
       "    }\n",
       "</style>\n",
       "<table border=\"1\" class=\"dataframe\">\n",
       "  <thead>\n",
       "    <tr style=\"text-align: right;\">\n",
       "      <th></th>\n",
       "      <th>v1</th>\n",
       "      <th>v2</th>\n",
       "      <th>Unnamed: 2</th>\n",
       "      <th>Unnamed: 3</th>\n",
       "      <th>Unnamed: 4</th>\n",
       "    </tr>\n",
       "  </thead>\n",
       "  <tbody>\n",
       "    <tr>\n",
       "      <th>0</th>\n",
       "      <td>ham</td>\n",
       "      <td>Go until jurong point, crazy.. Available only ...</td>\n",
       "      <td>NaN</td>\n",
       "      <td>NaN</td>\n",
       "      <td>NaN</td>\n",
       "    </tr>\n",
       "    <tr>\n",
       "      <th>1</th>\n",
       "      <td>ham</td>\n",
       "      <td>Ok lar... Joking wif u oni...</td>\n",
       "      <td>NaN</td>\n",
       "      <td>NaN</td>\n",
       "      <td>NaN</td>\n",
       "    </tr>\n",
       "    <tr>\n",
       "      <th>2</th>\n",
       "      <td>spam</td>\n",
       "      <td>Free entry in 2 a wkly comp to win FA Cup fina...</td>\n",
       "      <td>NaN</td>\n",
       "      <td>NaN</td>\n",
       "      <td>NaN</td>\n",
       "    </tr>\n",
       "    <tr>\n",
       "      <th>3</th>\n",
       "      <td>ham</td>\n",
       "      <td>U dun say so early hor... U c already then say...</td>\n",
       "      <td>NaN</td>\n",
       "      <td>NaN</td>\n",
       "      <td>NaN</td>\n",
       "    </tr>\n",
       "    <tr>\n",
       "      <th>4</th>\n",
       "      <td>ham</td>\n",
       "      <td>Nah I don't think he goes to usf, he lives aro...</td>\n",
       "      <td>NaN</td>\n",
       "      <td>NaN</td>\n",
       "      <td>NaN</td>\n",
       "    </tr>\n",
       "  </tbody>\n",
       "</table>\n",
       "</div>"
      ],
      "text/plain": [
       "     v1                                                 v2 Unnamed: 2  \\\n",
       "0   ham  Go until jurong point, crazy.. Available only ...        NaN   \n",
       "1   ham                      Ok lar... Joking wif u oni...        NaN   \n",
       "2  spam  Free entry in 2 a wkly comp to win FA Cup fina...        NaN   \n",
       "3   ham  U dun say so early hor... U c already then say...        NaN   \n",
       "4   ham  Nah I don't think he goes to usf, he lives aro...        NaN   \n",
       "\n",
       "  Unnamed: 3 Unnamed: 4  \n",
       "0        NaN        NaN  \n",
       "1        NaN        NaN  \n",
       "2        NaN        NaN  \n",
       "3        NaN        NaN  \n",
       "4        NaN        NaN  "
      ]
     },
     "execution_count": 1,
     "metadata": {},
     "output_type": "execute_result"
    }
   ],
   "source": [
    "import pandas as pd\n",
    "\n",
    "# Load the uploaded dataset to inspect its structure and contents\n",
    "file_path = 'spam.csv'\n",
    "\n",
    "# Read the dataset\n",
    "data = pd.read_csv(file_path, encoding='latin1')  # Using 'latin1' to handle potential encoding issues\n",
    "data.head()"
   ]
  },
  {
   "cell_type": "markdown",
   "id": "e06c1161-6335-4755-b22c-f46f0ecdfa3d",
   "metadata": {},
   "source": [
    "Downladed the dataset from kaggle and loaded in data and head displayed\n",
    "\n",
    "The dataset appears to have the following columns:\r\n",
    "\r\n",
    "- **v1**: Contains the label (`ham` or `spam`).\r\n",
    "- **v2**: Contains the email text.\r\n",
    "- **Unnamed: 2**, **Unnamed: 3**, **Unnamed: 4**: Seem to be empty or irrelevant coluns.\r\n"
   ]
  },
  {
   "cell_type": "markdown",
   "id": "ccc7c3d4-27ad-49f1-afca-d3a663189a24",
   "metadata": {},
   "source": [
    "# Exploratory Data Analysis & Data Cleaning"
   ]
  },
  {
   "cell_type": "markdown",
   "id": "a3fffc1a-19b9-430b-b05d-6425049e78e1",
   "metadata": {
    "jp-MarkdownHeadingCollapsed": true
   },
   "source": [
    "## Next Steps:\r\n",
    "\r\n",
    "### Clean the data:\r\n",
    "- Retain only the necessary columns (`v1` for the label and `v2` for the email tex\n",
    "- Rename these columns for clarity.\n",
    "- Remove duplicates in label column.\n",
    "ty.\r\n",
    "\r\n",
    "### Prepare the dataset for modeling:\r\n",
    "- Convert text labels (`ham`, `spam`) into numeric format.\r\n",
    "- Split the data into training and testing sets.\r\n",
    "\r\n",
    "### Build the model:\r\n",
    "- Use techniques like **TF-IDF** for text feature extraction.\r\n",
    "- Train a machine learning classifier (e.g., **Naive Bayes**, **Logistic Regression**).\r\n",
    "\r\n",
    "Let me proceed with clea"
   ]
  },
  {
   "cell_type": "markdown",
   "id": "880f29b8-ab66-4dcf-ae7f-81ae70acab9d",
   "metadata": {},
   "source": [
    "## Step 1: Clean the Data\n",
    "\n",
    "- Retain only the necessary columns (`label` and `text`).\n",
    "- Remove any irrelevant or empty columns.\n",
    "- Rename columns for clarity (if necessary).\n",
    "- Ensure the dataset contains valid entries for both labels and text."
   ]
  },
  {
   "cell_type": "code",
   "execution_count": 2,
   "id": "3b176999-4dcb-401d-a67d-fd1804f8f823",
   "metadata": {},
   "outputs": [
    {
     "data": {
      "text/html": [
       "<div>\n",
       "<style scoped>\n",
       "    .dataframe tbody tr th:only-of-type {\n",
       "        vertical-align: middle;\n",
       "    }\n",
       "\n",
       "    .dataframe tbody tr th {\n",
       "        vertical-align: top;\n",
       "    }\n",
       "\n",
       "    .dataframe thead th {\n",
       "        text-align: right;\n",
       "    }\n",
       "</style>\n",
       "<table border=\"1\" class=\"dataframe\">\n",
       "  <thead>\n",
       "    <tr style=\"text-align: right;\">\n",
       "      <th></th>\n",
       "      <th>label</th>\n",
       "      <th>text</th>\n",
       "    </tr>\n",
       "  </thead>\n",
       "  <tbody>\n",
       "    <tr>\n",
       "      <th>0</th>\n",
       "      <td>ham</td>\n",
       "      <td>Go until jurong point, crazy.. Available only ...</td>\n",
       "    </tr>\n",
       "    <tr>\n",
       "      <th>1</th>\n",
       "      <td>ham</td>\n",
       "      <td>Ok lar... Joking wif u oni...</td>\n",
       "    </tr>\n",
       "    <tr>\n",
       "      <th>2</th>\n",
       "      <td>spam</td>\n",
       "      <td>Free entry in 2 a wkly comp to win FA Cup fina...</td>\n",
       "    </tr>\n",
       "    <tr>\n",
       "      <th>3</th>\n",
       "      <td>ham</td>\n",
       "      <td>U dun say so early hor... U c already then say...</td>\n",
       "    </tr>\n",
       "    <tr>\n",
       "      <th>4</th>\n",
       "      <td>ham</td>\n",
       "      <td>Nah I don't think he goes to usf, he lives aro...</td>\n",
       "    </tr>\n",
       "  </tbody>\n",
       "</table>\n",
       "</div>"
      ],
      "text/plain": [
       "  label                                               text\n",
       "0   ham  Go until jurong point, crazy.. Available only ...\n",
       "1   ham                      Ok lar... Joking wif u oni...\n",
       "2  spam  Free entry in 2 a wkly comp to win FA Cup fina...\n",
       "3   ham  U dun say so early hor... U c already then say...\n",
       "4   ham  Nah I don't think he goes to usf, he lives aro..."
      ]
     },
     "execution_count": 2,
     "metadata": {},
     "output_type": "execute_result"
    }
   ],
   "source": [
    "# Drop unnecessary columns\n",
    "data_cleaned = data[['v1', 'v2']].copy()\n",
    "\n",
    "# Rename the columns for clarity\n",
    "data_cleaned.columns = ['label', 'text']\n",
    "\n",
    "# Display the cleaned dataset\n",
    "data_cleaned.head()"
   ]
  },
  {
   "cell_type": "code",
   "execution_count": 3,
   "id": "e04b8f58-d931-4db0-b612-465812b08bad",
   "metadata": {},
   "outputs": [
    {
     "data": {
      "text/html": [
       "<div>\n",
       "<style scoped>\n",
       "    .dataframe tbody tr th:only-of-type {\n",
       "        vertical-align: middle;\n",
       "    }\n",
       "\n",
       "    .dataframe tbody tr th {\n",
       "        vertical-align: top;\n",
       "    }\n",
       "\n",
       "    .dataframe thead th {\n",
       "        text-align: right;\n",
       "    }\n",
       "</style>\n",
       "<table border=\"1\" class=\"dataframe\">\n",
       "  <thead>\n",
       "    <tr style=\"text-align: right;\">\n",
       "      <th></th>\n",
       "      <th>label</th>\n",
       "      <th>text</th>\n",
       "    </tr>\n",
       "  </thead>\n",
       "  <tbody>\n",
       "    <tr>\n",
       "      <th>count</th>\n",
       "      <td>5572</td>\n",
       "      <td>5572</td>\n",
       "    </tr>\n",
       "    <tr>\n",
       "      <th>unique</th>\n",
       "      <td>2</td>\n",
       "      <td>5169</td>\n",
       "    </tr>\n",
       "    <tr>\n",
       "      <th>top</th>\n",
       "      <td>ham</td>\n",
       "      <td>Sorry, I'll call later</td>\n",
       "    </tr>\n",
       "    <tr>\n",
       "      <th>freq</th>\n",
       "      <td>4825</td>\n",
       "      <td>30</td>\n",
       "    </tr>\n",
       "  </tbody>\n",
       "</table>\n",
       "</div>"
      ],
      "text/plain": [
       "       label                    text\n",
       "count   5572                    5572\n",
       "unique     2                    5169\n",
       "top      ham  Sorry, I'll call later\n",
       "freq    4825                      30"
      ]
     },
     "execution_count": 3,
     "metadata": {},
     "output_type": "execute_result"
    }
   ],
   "source": [
    "data_cleaned.describe()"
   ]
  },
  {
   "cell_type": "markdown",
   "id": "9e8d6461-f3ac-4f48-af2b-5b46c2f5b417",
   "metadata": {},
   "source": [
    "Analysis:\n",
    "Text Data Variety in v2:\n",
    "\n",
    "5,169 unique messages out of 5,572 total indicates high variety in SMS content.\n",
    "Repeated messages like \"Sorry, I'll call later\" could be from promotional or template-based communication.\n",
    "Irrelevant Columns (Unnamed: 2, etc.):\n",
    "\n",
    "These columns have very few non-null values and seem unrelated to the main data. They are likely artifacts from the dataset formatting and should be dropped or explored further to confirm their relevance."
   ]
  },
  {
   "cell_type": "code",
   "execution_count": 4,
   "id": "f42d5d41-159e-40ec-9147-507e8d5791dd",
   "metadata": {},
   "outputs": [
    {
     "name": "stdout",
     "output_type": "stream",
     "text": [
      "(5169, 2)\n"
     ]
    },
    {
     "data": {
      "text/html": [
       "<div>\n",
       "<style scoped>\n",
       "    .dataframe tbody tr th:only-of-type {\n",
       "        vertical-align: middle;\n",
       "    }\n",
       "\n",
       "    .dataframe tbody tr th {\n",
       "        vertical-align: top;\n",
       "    }\n",
       "\n",
       "    .dataframe thead th {\n",
       "        text-align: right;\n",
       "    }\n",
       "</style>\n",
       "<table border=\"1\" class=\"dataframe\">\n",
       "  <thead>\n",
       "    <tr style=\"text-align: right;\">\n",
       "      <th></th>\n",
       "      <th>label</th>\n",
       "      <th>text</th>\n",
       "    </tr>\n",
       "  </thead>\n",
       "  <tbody>\n",
       "    <tr>\n",
       "      <th>count</th>\n",
       "      <td>5169</td>\n",
       "      <td>5169</td>\n",
       "    </tr>\n",
       "    <tr>\n",
       "      <th>unique</th>\n",
       "      <td>2</td>\n",
       "      <td>5169</td>\n",
       "    </tr>\n",
       "    <tr>\n",
       "      <th>top</th>\n",
       "      <td>ham</td>\n",
       "      <td>Go until jurong point, crazy.. Available only ...</td>\n",
       "    </tr>\n",
       "    <tr>\n",
       "      <th>freq</th>\n",
       "      <td>4516</td>\n",
       "      <td>1</td>\n",
       "    </tr>\n",
       "  </tbody>\n",
       "</table>\n",
       "</div>"
      ],
      "text/plain": [
       "       label                                               text\n",
       "count   5169                                               5169\n",
       "unique     2                                               5169\n",
       "top      ham  Go until jurong point, crazy.. Available only ...\n",
       "freq    4516                                                  1"
      ]
     },
     "execution_count": 4,
     "metadata": {},
     "output_type": "execute_result"
    }
   ],
   "source": [
    "# Remove any duplicate rows\n",
    "data_cleaned.drop_duplicates(inplace=True)\n",
    "\n",
    "print(data_cleaned.shape)\n",
    "data_cleaned.describe()"
   ]
  },
  {
   "cell_type": "markdown",
   "id": "31fa5330-785b-4f1e-a882-f6ad2b47b587",
   "metadata": {},
   "source": [
    "The dataset has been cleaned and now contains two columns:\r\n",
    "\r\n",
    "- **label**: Indicates whether the email is \"ham\" (legitimate) or \"spam\".\r\n",
    "- **text**: Contains the email text.\r\n"
   ]
  },
  {
   "cell_type": "markdown",
   "id": "4456e09e-f6c1-4194-a3aa-6b3a982e62b5",
   "metadata": {
    "jp-MarkdownHeadingCollapsed": true
   },
   "source": [
    "## Step 2: Convert Text Labels to Numeric Format\n",
    "\n",
    "You can use pandas' `map` function to convert the text labels (`'ham'`, `'spam'`) into numeric values (e.g., `0` for `'ham'` and `1` for `'spam`):\n"
   ]
  },
  {
   "cell_type": "code",
   "execution_count": 5,
   "id": "9dc85641-f79d-414a-8173-5baed20361eb",
   "metadata": {},
   "outputs": [
    {
     "data": {
      "text/html": [
       "<div>\n",
       "<style scoped>\n",
       "    .dataframe tbody tr th:only-of-type {\n",
       "        vertical-align: middle;\n",
       "    }\n",
       "\n",
       "    .dataframe tbody tr th {\n",
       "        vertical-align: top;\n",
       "    }\n",
       "\n",
       "    .dataframe thead th {\n",
       "        text-align: right;\n",
       "    }\n",
       "</style>\n",
       "<table border=\"1\" class=\"dataframe\">\n",
       "  <thead>\n",
       "    <tr style=\"text-align: right;\">\n",
       "      <th></th>\n",
       "      <th>label</th>\n",
       "      <th>text</th>\n",
       "    </tr>\n",
       "  </thead>\n",
       "  <tbody>\n",
       "    <tr>\n",
       "      <th>0</th>\n",
       "      <td>0</td>\n",
       "      <td>Go until jurong point, crazy.. Available only ...</td>\n",
       "    </tr>\n",
       "    <tr>\n",
       "      <th>1</th>\n",
       "      <td>0</td>\n",
       "      <td>Ok lar... Joking wif u oni...</td>\n",
       "    </tr>\n",
       "    <tr>\n",
       "      <th>2</th>\n",
       "      <td>1</td>\n",
       "      <td>Free entry in 2 a wkly comp to win FA Cup fina...</td>\n",
       "    </tr>\n",
       "    <tr>\n",
       "      <th>3</th>\n",
       "      <td>0</td>\n",
       "      <td>U dun say so early hor... U c already then say...</td>\n",
       "    </tr>\n",
       "    <tr>\n",
       "      <th>4</th>\n",
       "      <td>0</td>\n",
       "      <td>Nah I don't think he goes to usf, he lives aro...</td>\n",
       "    </tr>\n",
       "  </tbody>\n",
       "</table>\n",
       "</div>"
      ],
      "text/plain": [
       "   label                                               text\n",
       "0      0  Go until jurong point, crazy.. Available only ...\n",
       "1      0                      Ok lar... Joking wif u oni...\n",
       "2      1  Free entry in 2 a wkly comp to win FA Cup fina...\n",
       "3      0  U dun say so early hor... U c already then say...\n",
       "4      0  Nah I don't think he goes to usf, he lives aro..."
      ]
     },
     "execution_count": 5,
     "metadata": {},
     "output_type": "execute_result"
    }
   ],
   "source": [
    "from sklearn.model_selection import train_test_split\n",
    "\n",
    "# Convert labels to binary format: 'ham' -> 0, 'spam' -> 1\n",
    "data_cleaned['label'] = data_cleaned['label'].map({'ham': 0, 'spam': 1})\n",
    "\n",
    "# Verify the changes\n",
    "data_cleaned.head()"
   ]
  },
  {
   "cell_type": "markdown",
   "id": "749134e1-f9c4-40bb-905c-2d9f17b775e2",
   "metadata": {
    "jp-MarkdownHeadingCollapsed": true
   },
   "source": [
    "## Step 3: Split the Data into Training and Testing Sets\n",
    "\n",
    "For model training, we typically split the data into training and testing sets. You can use `train_test_split` from `sklearn.model_selection` for this:"
   ]
  },
  {
   "cell_type": "markdown",
   "id": "db16016c-78af-4982-b4de-c596a2c0c1aa",
   "metadata": {},
   "source": [
    "Splitting the dataframe to two parts train and test whith training set of 80% and test set of 20%."
   ]
  },
  {
   "cell_type": "code",
   "execution_count": 6,
   "id": "b1dae972-9972-46b4-a352-1b0629daf5ba",
   "metadata": {},
   "outputs": [
    {
     "data": {
      "text/plain": [
       "(4135, 1034, 4135, 1034)"
      ]
     },
     "execution_count": 6,
     "metadata": {},
     "output_type": "execute_result"
    }
   ],
   "source": [
    "# Split the dataset into training and testing sets\n",
    "X = data_cleaned['text']\n",
    "y = data_cleaned['label']\n",
    "X_train, X_test, y_train, y_test = train_test_split(X, y, test_size=0.2, random_state=0)\n",
    "\n",
    "# Check the split sizes\n",
    "len(X_train), len(X_test), len(y_train), len(y_test)"
   ]
  },
  {
   "cell_type": "markdown",
   "id": "50831e12-3571-4e81-872e-db38405a6936",
   "metadata": {
    "jp-MarkdownHeadingCollapsed": true
   },
   "source": [
    "## Step 4 - i: Text Preprocessing\n",
    "\n",
    "We will perform the following tasks to clean and preprocess the text data:\n",
    "\n",
    "1. **Convert all text to lowercase** to ensure uniformity and avoid treating the same word in different cases as different words.\n",
    "2. **Remove special characters and digits** to focus on relevant words.\n",
    "3. **Tokenize the text**: While TF-IDF can handle basic tokenization, additional tokenization steps can help in more complex scenarios.\n"
   ]
  },
  {
   "cell_type": "code",
   "execution_count": 7,
   "id": "f2d856eb-1d61-42dd-8388-80b63ae0590d",
   "metadata": {},
   "outputs": [
    {
     "data": {
      "text/plain": [
       "3794           also remember the beads dont come off ever\n",
       "4290                                call me when ure done\n",
       "2603    im at arestaurant eating squid i will be out a...\n",
       "3452    nowadays people are notixiquating the laxinorf...\n",
       "3132                              so no messages had food\n",
       "                              ...                        \n",
       "5307                               what you did in  leave\n",
       "3455                            ok ill do you right later\n",
       "1708    hows my loverboy doing  what does he do that k...\n",
       "2730                            i havent lei next mon can\n",
       "2871                                       see you there \n",
       "Name: text, Length: 4135, dtype: object"
      ]
     },
     "execution_count": 7,
     "metadata": {},
     "output_type": "execute_result"
    }
   ],
   "source": [
    "import re\n",
    "\n",
    "# Preprocess the text: lowercase and remove special characters\n",
    "def preprocess_text(text):\n",
    "    # Lowercase the text\n",
    "    text = text.lower()\n",
    "    # Remove special characters and digits\n",
    "    text = re.sub(r'[^a-z\\s]', '', text)\n",
    "    return text\n",
    "\n",
    "# Apply the preprocessing function to the training and testing data\n",
    "X_train = X_train.apply(preprocess_text)\n",
    "X_test = X_test.apply(preprocess_text)\n",
    "\n",
    "# Display some preprocessed text samples\n",
    "X_train"
   ]
  },
  {
   "cell_type": "markdown",
   "id": "f10a52ea-4acf-4c8d-a161-7544bb705d54",
   "metadata": {
    "jp-MarkdownHeadingCollapsed": true
   },
   "source": [
    "## Step 4 - ii: Text Vectorization using TF-IDF\n",
    "\n",
    "Now that the text is preprocessed, we will extract features using **TF-IDF** (Term Frequency-Inverse Document Frequency). TF-IDF converts the text data into a matrix of numerical features that can be used for machine learning models.\n",
    "\n",
    "Here’s how to do it using `TfidfVectorizer` from `sklearn.feature_extraction.text`:\n"
   ]
  },
  {
   "cell_type": "code",
   "execution_count": 8,
   "id": "27cc5b2c-684b-48fe-8b70-6676eb564e20",
   "metadata": {},
   "outputs": [
    {
     "name": "stdout",
     "output_type": "stream",
     "text": [
      "Training data shape: (4135, 5000)\n",
      "Testing data shape: (1034, 5000)\n"
     ]
    }
   ],
   "source": [
    "from sklearn.feature_extraction.text import TfidfVectorizer\n",
    "\n",
    "# Initialize the TF-IDF Vectorizer\n",
    "vectorizer = TfidfVectorizer(max_features=5000)  # Limit the number of features to 5000 for efficiency\n",
    "\n",
    "# Fit and transform the training data\n",
    "X_train_tfidf = vectorizer.fit_transform(X_train)\n",
    "\n",
    "# Transform the test data (using the same vocabulary as the training data)\n",
    "X_test_tfidf = vectorizer.transform(X_test)\n",
    "\n",
    "# Check the shape of the transformed feature matrices\n",
    "print(f\"Training data shape: {X_train_tfidf.shape}\")\n",
    "print(f\"Testing data shape: {X_test_tfidf.shape}\")"
   ]
  },
  {
   "cell_type": "markdown",
   "id": "6f071b9d-0abd-410e-946d-7b133f82c3d1",
   "metadata": {},
   "source": [
    "The dataset has been split into training and testing sets:\n",
    "\n",
    "- **Training Set**: 4,135 samples.  \n",
    "- **Testing Set**: 1,034 samples."
   ]
  },
  {
   "cell_type": "markdown",
   "id": "82cbad73-653c-4e03-a966-486c6d0352b1",
   "metadata": {},
   "source": [
    "## Step5: Handling Class Imbalance:"
   ]
  },
  {
   "cell_type": "code",
   "execution_count": 9,
   "id": "cee9a9c4-3fbe-4cf4-9736-aae7e1644675",
   "metadata": {},
   "outputs": [
    {
     "data": {
      "text/plain": [
       "label\n",
       "0    3631\n",
       "1     504\n",
       "Name: count, dtype: int64"
      ]
     },
     "execution_count": 9,
     "metadata": {},
     "output_type": "execute_result"
    }
   ],
   "source": [
    "# Check the distribution of ham and spam in v1 to plan for handling imbalance during model training:\n",
    "\n",
    "y_train.value_counts()\n"
   ]
  },
  {
   "cell_type": "code",
   "execution_count": 10,
   "id": "867f432c-f762-4497-817f-e0890df08d9d",
   "metadata": {},
   "outputs": [
    {
     "data": {
      "image/png": "[encoded data removed]",
      "text/plain": [
       "<Figure size 640x480 with 1 Axes>"
      ]
     },
     "metadata": {},
     "output_type": "display_data"
    }
   ],
   "source": [
    "# Create a bar plot to visualize the distribution of labels\n",
    "import matplotlib.pyplot as plt\n",
    "\n",
    "y_train.value_counts().plot(kind='bar', color=['blue', 'orange'])\n",
    "plt.title('Distribution of Ham vs Spam')\n",
    "plt.xlabel('Message Type')\n",
    "plt.ylabel('Count')\n",
    "plt.show()\n"
   ]
  },
  {
   "cell_type": "markdown",
   "id": "ddfe7c95-3447-4f5e-9115-f686ae4c346c",
   "metadata": {},
   "source": [
    "The dataset is highly imbalanced, with 87.8% `ham` (`0`) messages (3,631/4135) and 12.2% `spam` (`1`) messages (504/4135) in training set. This imbalance can lead to machine learning models being biased toward the majority class (ham), affecting fairness and accuracy. Proper handling of class imbalance is crucial when building models."
   ]
  },
  {
   "cell_type": "markdown",
   "id": "35680e36-4a95-4e16-8ff6-eaa0f2c78bf7",
   "metadata": {
    "jp-MarkdownHeadingCollapsed": true
   },
   "source": [
    "## Handling Class Imbalance\r\n",
    "\r\n",
    "Class imbalance is an important step to improve the performance of the model, especially when the dataset contains significantly more examples from one class than the other. For your problem (spam vs. ham classification), it's possible that the dataset has an imbalance between \"ham\" (non-spam) and \"spam\" messages.\r\n",
    "\r\n",
    "### Approaches to Handle Class Imbalance:\r\n",
    "\r\n",
    "1. **Use class weights in the classifier**: Many machine learning algorithms, including Logistic Regression, allow you to set class weights, which automatically penalize the model more for misclassifying the minority class.\r\n",
    "\r\n",
    "2. **Resample the dataset**: We can either oversample the minority class (spam) or undersample the majority class (ham) to balance the ority class.\r\n",
    "ion_report(y_test, y_pred))\r\n"
   ]
  },
  {
   "cell_type": "markdown",
   "id": "05063ea2-096a-4398-a280-ef6846c764ea",
   "metadata": {},
   "source": [
    "# Applying machine learning classification model"
   ]
  },
  {
   "cell_type": "markdown",
   "id": "d26ec307-489b-4c82-bcac-e088baac4f4d",
   "metadata": {},
   "source": [
    "### Approach 1: **Using class weights in the Logistic Regression model.** \n",
    "\n",
    "This method does not alter the data itself but adjusts the model's learning process to focus more on the minority class.\n",
    "\n",
    "In this approach, the model adjusts the penalty for misclassifying the minority class (e.g., \"spam\") by assigning higher weights to it and lower weights to the majority class (e.g., \"ham\") during training. This balances the importance of both classes without altering the dataset.\n",
    "\n",
    "#### Pros:\n",
    "- **No Data Duplication or Alteration**: Avoids creating synthetic or duplicate samples, preserving the integrity of the dataset.\n",
    "- **Efficient and Straightforward**: Requires no additional preprocessing steps and is computationally efficient.\n",
    "- **Prevents Overfitting**: Does not artificially inflate the dataset, reducing the risk of overfitting.\n",
    "\n",
    "#### Cons:\n",
    "- **Model-Specific**: Not all classifiers support the use of class weights."
   ]
  },
  {
   "cell_type": "code",
   "execution_count": 11,
   "id": "45dc5a97-30c7-4331-955a-124801897bef",
   "metadata": {},
   "outputs": [
    {
     "name": "stdout",
     "output_type": "stream",
     "text": [
      "Accuracy: 97.78%\n",
      "              precision    recall  f1-score   support\n",
      "\n",
      "           0       0.99      0.99      0.99       885\n",
      "           1       0.93      0.91      0.92       149\n",
      "\n",
      "    accuracy                           0.98      1034\n",
      "   macro avg       0.96      0.95      0.95      1034\n",
      "weighted avg       0.98      0.98      0.98      1034\n",
      "\n"
     ]
    }
   ],
   "source": [
    "from sklearn.linear_model import LogisticRegression\n",
    "from sklearn.metrics import classification_report, accuracy_score\n",
    "\n",
    "# Initialize the Logistic Regression model with class weights\n",
    "model = LogisticRegression(max_iter=1000, class_weight='balanced')\n",
    "\n",
    "# Train the model on the training data\n",
    "model.fit(X_train_tfidf, y_train)\n",
    "\n",
    "# Predict on the test data\n",
    "y_pred = model.predict(X_test_tfidf)\n",
    "\n",
    "# Evaluate the model\n",
    "accuracy = accuracy_score(y_test, y_pred)\n",
    "print(f\"Accuracy: {accuracy * 100:.2f}%\")\n",
    "\n",
    "# Display a classification report\n",
    "print(classification_report(y_test, y_pred))"
   ]
  },
  {
   "cell_type": "code",
   "execution_count": 14,
   "id": "02834bb8-a23a-4418-96b4-785253625a31",
   "metadata": {},
   "outputs": [
    {
     "name": "stdout",
     "output_type": "stream",
     "text": [
      "Accuracy: 93.91%\n",
      "Classification Report:\n",
      "               precision    recall  f1-score   support\n",
      "\n",
      "           0       0.93      1.00      0.97       885\n",
      "           1       1.00      0.58      0.73       149\n",
      "\n",
      "    accuracy                           0.94      1034\n",
      "   macro avg       0.97      0.79      0.85      1034\n",
      "weighted avg       0.94      0.94      0.93      1034\n",
      "\n"
     ]
    }
   ],
   "source": [
    "from sklearn.naive_bayes import MultinomialNB\n",
    "\n",
    "# Step 5: Train a Naive Bayes model\n",
    "model = MultinomialNB()\n",
    "model.fit(X_train_tfidf, y_train)\n",
    "\n",
    "# Predict on the test data\n",
    "y_pred = model.predict(X_test_tfidf)\n",
    "\n",
    "# Step 7: Evaluate the model\n",
    "accuracy = accuracy_score(y_test, y_pred)\n",
    "print(f\"Accuracy: {accuracy * 100:.2f}%\")\n",
    "print(\"Classification Report:\\n\", classification_report(y_test, y_pred))"
   ]
  },
  {
   "cell_type": "markdown",
   "id": "d55c9763-f1a1-48ec-ad74-372d2fc5fd60",
   "metadata": {
    "jp-MarkdownHeadingCollapsed": true
   },
   "source": [
    "### Approach 2: Using SMOTE (Synthetic Minority Oversampling Technique)\r\n",
    "\r\n",
    "SMOTE generates synthetic samples of the minority class (e.g., \"spam\") by interpolating between existing minority class samples, balancing the training data.#\r\n",
    "\r\n",
    "### Pros:\r\n",
    "- **Improves Learning for Severe Imbalance**: Directly balances the training data, helping the model better understand the minority class.\r\n",
    "- **Model-Agnostic**: Works with any classifier since it modifies the data, notodhe mo#del.\r\n",
    "\r\n",
    "### Cons:\r\n",
    "- **Computational Overhead**: Generating synthetic samples requires additional computation, increasing training time.\r\n",
    "- **Risk of Overfitting**: Oversampling, especially on small datasets, can lead to overfitting as the model trains on synthetic data that may not generalize well.\r\n",
    "- **Changes Data Distribution**: Synthetic data might not represent real-world distributions, potentially introducing bias.\r\n",
    "\n"
   ]
  },
  {
   "cell_type": "code",
   "execution_count": 12,
   "id": "af180f2e-3bed-4884-b1fa-c04e0f7ad670",
   "metadata": {},
   "outputs": [
    {
     "name": "stdout",
     "output_type": "stream",
     "text": [
      "Accuracy after resampling: 97.68%\n",
      "              precision    recall  f1-score   support\n",
      "\n",
      "           0       0.98      0.99      0.99       885\n",
      "           1       0.94      0.90      0.92       149\n",
      "\n",
      "    accuracy                           0.98      1034\n",
      "   macro avg       0.96      0.94      0.95      1034\n",
      "weighted avg       0.98      0.98      0.98      1034\n",
      "\n"
     ]
    }
   ],
   "source": [
    "from imblearn.over_sampling import SMOTE\n",
    "\n",
    "# Apply SMOTE to the training data to balance the classes\n",
    "smote = SMOTE(random_state=42)\n",
    "X_train_resampled, y_train_resampled = smote.fit_resample(X_train_tfidf, y_train)\n",
    "\n",
    "# Train the model on the resampled training data\n",
    "model = LogisticRegression()\n",
    "model.fit(X_train_resampled, y_train_resampled)\n",
    "\n",
    "# Predict on the test data\n",
    "y_pred_resampled = model.predict(X_test_tfidf)\n",
    "\n",
    "# Evaluate the model\n",
    "accuracy_resampled = accuracy_score(y_test, y_pred_resampled)\n",
    "print(f\"Accuracy after resampling: {accuracy_resampled * 100:.2f}%\")\n",
    "\n",
    "# Display a classification report for resampled data\n",
    "print(classification_report(y_test, y_pred_resampled))\n"
   ]
  },
  {
   "cell_type": "code",
   "execution_count": 13,
   "id": "344d826c-fdd3-4188-80f1-4fa14d2005a9",
   "metadata": {},
   "outputs": [
    {
     "name": "stdout",
     "output_type": "stream",
     "text": [
      "Accuracy: 96.81%\n",
      "Classification Report:\n",
      "               precision    recall  f1-score   support\n",
      "\n",
      "           0       0.99      0.98      0.98       885\n",
      "           1       0.87      0.91      0.89       149\n",
      "\n",
      "    accuracy                           0.97      1034\n",
      "   macro avg       0.93      0.95      0.94      1034\n",
      "weighted avg       0.97      0.97      0.97      1034\n",
      "\n"
     ]
    }
   ],
   "source": [
    "from sklearn.naive_bayes import MultinomialNB\n",
    "\n",
    "# Step 5: Train a Naive Bayes model\n",
    "model = MultinomialNB()\n",
    "model.fit(X_train_resampled, y_train_resampled)\n",
    "\n",
    "# Step 6: Predict on the test data\n",
    "y_pred = model.predict(X_test_tfidf)\n",
    "\n",
    "# Step 7: Evaluate the model\n",
    "accuracy = accuracy_score(y_test, y_pred)\n",
    "print(f\"Accuracy: {accuracy * 100:.2f}%\")\n",
    "print(\"Classification Report:\\n\", classification_report(y_test, y_pred))"
   ]
  },
  {
   "cell_type": "markdown",
   "id": "3e456632-54b2-4a99-8bd4-e1340398e32b",
   "metadata": {},
   "source": [
    "## Pros and Cons of Each Approach (Naive Bayes model)\r\n",
    "\r\n",
    "| **Approach**       | **Pros**                                                     | **Cons**                                                      |\r\n",
    "|---------------------|-------------------------------------------------------------|--------------------------------------------------------------|\r\n",
    "| **Before SMOTE**    | - High precision for minority class (spam).                 | - Poor recall for minority class (misses many spam).         |\r\n",
    "|                     | - No additional computational overhead.                     | - Strong bias toward the majority class (ham).               |\r\n",
    "| **After SMOTE**     | - Significant improvement in recall for spam (91%).         | - Slight decrease in precision for the minority class.       |\r\n",
    "|                     | - Overall better balance between classes.                   | - More computational cost due to SMOTE processing.           |\r\n"
   ]
  }
 ],
 "metadata": {
  "kernelspec": {
   "display_name": "Python 3 (ipykernel)",
   "language": "python",
   "name": "python3"
  },
  "language_info": {
   "codemirror_mode": {
    "name": "ipython",
    "version": 3
   },
   "file_extension": ".py",
   "mimetype": "text/x-python",
   "name": "python",
   "nbconvert_exporter": "python",
   "pygments_lexer": "ipython3",
   "version": "3.11.7"
  },
  "widgets": {
   "application/vnd.jupyter.widget-state+json": {
    "state": {},
    "version_major": 2,
    "version_minor": 0
   }
  }
 },
 "nbformat": 4,
 "nbformat_minor": 5
}
